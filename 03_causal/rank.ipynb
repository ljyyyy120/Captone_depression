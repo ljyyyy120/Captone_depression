{
 "cells": [
  {
   "cell_type": "code",
   "execution_count": 1,
   "metadata": {},
   "outputs": [],
   "source": [
    "import matplotlib.pyplot as plt\n",
    "import matplotlib.patches as mpatches\n",
    "import numpy as np\n",
    "import pandas as pd"
   ]
  },
  {
   "cell_type": "code",
   "execution_count": 12,
   "metadata": {},
   "outputs": [],
   "source": [
    "df = pd.read_csv('../00_data/14_output/FsAMIs_0903_pop_ko.csv')\n",
    "# df = pd.read_csv('../00_data/14_output/SAMIs_pop.csv')\n",
    "df.loc[df['factor'] == 'gdp', 'factor'] = 'GDP'\n",
    "df.loc[df['factor'] == 'mental_health_providers', 'factor'] = 'MHP'\n",
    "df.loc[df['factor'] == 'DEPRESSION', 'factor'] = 'DEP'\n",
    "df.loc[df['factor'] == 'noise50n', 'factor'] = 'NOI'\n",
    "df.loc[df['factor'] == 'BINGE', 'factor'] = 'ED'\n",
    "df.loc[df['factor'] == 'FFR20', 'factor'] = 'FFR'\n",
    "df.loc[df['factor'] == 'LPA', 'factor'] = 'PI'\n"
   ]
  },
  {
   "cell_type": "code",
   "execution_count": 13,
   "metadata": {},
   "outputs": [],
   "source": [
    "my_factors = [\"DEP\", \"ED\", \"PI\", \"MHP\", \"GDP\", \"NOI\"]"
   ]
  },
  {
   "cell_type": "code",
   "execution_count": 14,
   "metadata": {},
   "outputs": [],
   "source": [
    "df_raw = pd.read_csv(\"../00_data/13_final/cbsa_level.csv\")\n",
    "\n",
    "data = df.merge(df_raw[['cbsacode','TotalPopulation']])[['cbsacode','factor','TotalPopulation','FsAMI']].copy()\n",
    "# data = df.merge(df_raw[['cbsacode','TotalPopulation']])[['cbsacode','factor','TotalPopulation','SAMI']].copy()"
   ]
  },
  {
   "cell_type": "code",
   "execution_count": 15,
   "metadata": {},
   "outputs": [
    {
     "name": "stdout",
     "output_type": "stream",
     "text": [
      "  factor       rho      pval\n",
      "0    DEP  0.084559  0.012343\n",
      "1     ED  0.021939  0.516912\n",
      "2     PI -0.036146  0.285509\n",
      "3    MHP  0.024484  0.469746\n",
      "4    GDP -0.003248  0.923561\n",
      "5    NOI  0.043754  0.196004\n"
     ]
    }
   ],
   "source": [
    "from scipy.stats import spearmanr\n",
    "\n",
    "results = []\n",
    "for fac in my_factors:\n",
    "    sub = data[data[\"factor\"] == fac]\n",
    "    if len(sub) > 1:  # need at least 2 rows\n",
    "        rho, pval = spearmanr(sub[\"TotalPopulation\"], sub[\"FsAMI\"])\n",
    "        # rho, pval = spearmanr(sub[\"TotalPopulation\"], sub[\"SAMI\"])\n",
    "        results.append({\"factor\": fac, \"rho\": rho, \"pval\": pval})\n",
    "\n",
    "results_df = pd.DataFrame(results)\n",
    "print(results_df)\n",
    "\n",
    "# results_df.to_csv('../00_data/14_output/population_rank.csv',index=False)"
   ]
  },
  {
   "cell_type": "code",
   "execution_count": 11,
   "metadata": {},
   "outputs": [
    {
     "name": "stdout",
     "output_type": "stream",
     "text": [
      "  factor       rho      pval\n",
      "0    DEP  0.068773  0.041969\n",
      "1     ED -0.014580  0.666695\n",
      "2     PI -0.023423  0.488955\n",
      "3    MHP -0.006241  0.853811\n",
      "4    GDP  0.013026  0.700396\n",
      "5    NOI  0.042206  0.212304\n"
     ]
    }
   ],
   "source": [
    "from scipy.stats import spearmanr\n",
    "\n",
    "results = []\n",
    "for fac in my_factors:\n",
    "    sub = data[data[\"factor\"] == fac]\n",
    "    if len(sub) > 1:  # need at least 2 rows\n",
    "        # rho, pval = spearmanr(sub[\"TotalPopulation\"], sub[\"FsAMI\"])\n",
    "        rho, pval = spearmanr(sub[\"TotalPopulation\"], sub[\"SAMI\"])\n",
    "        results.append({\"factor\": fac, \"rho\": rho, \"pval\": pval})\n",
    "\n",
    "results_df = pd.DataFrame(results)\n",
    "print(results_df)\n",
    "\n",
    "# results_df.to_csv('../00_data/14_output/population_rank.csv',index=False)\n"
   ]
  },
  {
   "cell_type": "code",
   "execution_count": 6,
   "metadata": {},
   "outputs": [
    {
     "data": {
      "application/vnd.microsoft.datawrangler.viewer.v0+json": {
       "columns": [
        {
         "name": "index",
         "rawType": "int64",
         "type": "integer"
        },
        {
         "name": "cbsacode",
         "rawType": "float64",
         "type": "float"
        },
        {
         "name": "factor",
         "rawType": "object",
         "type": "string"
        },
        {
         "name": "TotalPopulation",
         "rawType": "int64",
         "type": "integer"
        },
        {
         "name": "FsAMI",
         "rawType": "float64",
         "type": "float"
        }
       ],
       "ref": "23638860-df94-4f78-833c-207ebac3f3f4",
       "rows": [
        [
         "0",
         "10100.0",
         "ED",
         "42037",
         "0.0238067981522736"
        ],
        [
         "1",
         "10140.0",
         "ED",
         "77038",
         "0.0343966047574237"
        ],
        [
         "2",
         "10180.0",
         "ED",
         "179308",
         "0.0095255984646023"
        ],
        [
         "3",
         "10220.0",
         "ED",
         "38141",
         "-0.0955894772562526"
        ],
        [
         "4",
         "10300.0",
         "ED",
         "98567",
         "-0.0712326267431748"
        ],
        [
         "5",
         "10420.0",
         "ED",
         "697627",
         "-0.0096891066600903"
        ],
        [
         "6",
         "10460.0",
         "ED",
         "68823",
         "0.0636285486843455"
        ],
        [
         "7",
         "10500.0",
         "ED",
         "145786",
         "-0.0669482079936649"
        ],
        [
         "8",
         "10540.0",
         "ED",
         "130467",
         "0.021329093959892"
        ],
        [
         "9",
         "10580.0",
         "ED",
         "904617",
         "0.0567239879859862"
        ],
        [
         "10",
         "10620.0",
         "ED",
         "64153",
         "0.0251838382219808"
        ],
        [
         "11",
         "10660.0",
         "ED",
         "30718",
         "-0.1213551463068256"
        ],
        [
         "12",
         "10700.0",
         "ED",
         "99423",
         "0.0355827848771834"
        ],
        [
         "13",
         "10740.0",
         "ED",
         "919543",
         "0.1094470678380066"
        ],
        [
         "14",
         "10780.0",
         "ED",
         "149189",
         "0.0697056117262882"
        ],
        [
         "15",
         "10820.0",
         "ED",
         "39668",
         "-0.0331590115095838"
        ],
        [
         "16",
         "10860.0",
         "ED",
         "45732",
         "0.0074401268690795"
        ],
        [
         "17",
         "10900.0",
         "ED",
         "871229",
         "0.0127401442647556"
        ],
        [
         "18",
         "10940.0",
         "ED",
         "41100",
         "0.1130594553073027"
        ],
        [
         "19",
         "10980.0",
         "ED",
         "28847",
         "-0.0621726457910494"
        ],
        [
         "20",
         "11020.0",
         "ED",
         "121032",
         "-0.0644459021973524"
        ],
        [
         "21",
         "11060.0",
         "ED",
         "24556",
         "-0.0337475497315722"
        ],
        [
         "22",
         "11100.0",
         "ED",
         "271171",
         "0.019900917731995"
        ],
        [
         "23",
         "11140.0",
         "ED",
         "33373",
         "0.0383706484604129"
        ],
        [
         "24",
         "11180.0",
         "ED",
         "126282",
         "0.0340174034750848"
        ],
        [
         "25",
         "11200.0",
         "ED",
         "162588",
         "0.0925791804446323"
        ],
        [
         "26",
         "11220.0",
         "ED",
         "49623",
         "0.0350352251293042"
        ],
        [
         "27",
         "11360.0",
         "ED",
         "138832",
         "0.1321195644195913"
        ],
        [
         "28",
         "11380.0",
         "ED",
         "18334",
         "0.0467957817902728"
        ],
        [
         "29",
         "11420.0",
         "ED",
         "34725",
         "-0.0665221739372867"
        ],
        [
         "30",
         "11460.0",
         "ED",
         "366376",
         "0.0036449465062524"
        ],
        [
         "31",
         "11500.0",
         "ED",
         "115788",
         "-0.0016668165082638"
        ],
        [
         "32",
         "11540.0",
         "ED",
         "244845",
         "0.0183912636753937"
        ],
        [
         "33",
         "11580.0",
         "ED",
         "35312",
         "0.0972992402107504"
        ],
        [
         "34",
         "11620.0",
         "ED",
         "48510",
         "-0.1078478455575755"
        ],
        [
         "35",
         "11680.0",
         "ED",
         "34453",
         "0.1689930116305866"
        ],
        [
         "36",
         "11700.0",
         "ED",
         "413463",
         "0.0945513325135429"
        ],
        [
         "37",
         "11740.0",
         "ED",
         "52181",
         "-0.0021726931785384"
        ],
        [
         "38",
         "11820.0",
         "ED",
         "41695",
         "0.069690721681864"
        ],
        [
         "39",
         "11860.0",
         "ED",
         "16108",
         "0.0084031641824227"
        ],
        [
         "40",
         "11900.0",
         "ED",
         "58979",
         "0.1729311315240025"
        ],
        [
         "41",
         "11940.0",
         "ED",
         "67991",
         "-0.0169538338654593"
        ],
        [
         "42",
         "11980.0",
         "ED",
         "84511",
         "-0.0171915411153662"
        ],
        [
         "43",
         "12020.0",
         "ED",
         "220405",
         "0.0608292781217425"
        ],
        [
         "44",
         "12060.0",
         "ED",
         "6237435",
         "-0.0582421989031107"
        ],
        [
         "45",
         "12100.0",
         "ED",
         "371272",
         "-0.0122449736419891"
        ],
        [
         "46",
         "12140.0",
         "ED",
         "43731",
         "-0.0152370082075279"
        ],
        [
         "47",
         "12180.0",
         "ED",
         "74998",
         "-0.0789069607453232"
        ],
        [
         "48",
         "12220.0",
         "ED",
         "199289",
         "0.0790005519239809"
        ],
        [
         "49",
         "12260.0",
         "ED",
         "624083",
         "-0.1044175468619723"
        ]
       ],
       "shape": {
        "columns": 4,
        "rows": 26002
       }
      },
      "text/html": [
       "<div>\n",
       "<style scoped>\n",
       "    .dataframe tbody tr th:only-of-type {\n",
       "        vertical-align: middle;\n",
       "    }\n",
       "\n",
       "    .dataframe tbody tr th {\n",
       "        vertical-align: top;\n",
       "    }\n",
       "\n",
       "    .dataframe thead th {\n",
       "        text-align: right;\n",
       "    }\n",
       "</style>\n",
       "<table border=\"1\" class=\"dataframe\">\n",
       "  <thead>\n",
       "    <tr style=\"text-align: right;\">\n",
       "      <th></th>\n",
       "      <th>cbsacode</th>\n",
       "      <th>factor</th>\n",
       "      <th>TotalPopulation</th>\n",
       "      <th>FsAMI</th>\n",
       "    </tr>\n",
       "  </thead>\n",
       "  <tbody>\n",
       "    <tr>\n",
       "      <th>0</th>\n",
       "      <td>10100.0</td>\n",
       "      <td>ED</td>\n",
       "      <td>42037</td>\n",
       "      <td>0.023807</td>\n",
       "    </tr>\n",
       "    <tr>\n",
       "      <th>1</th>\n",
       "      <td>10140.0</td>\n",
       "      <td>ED</td>\n",
       "      <td>77038</td>\n",
       "      <td>0.034397</td>\n",
       "    </tr>\n",
       "    <tr>\n",
       "      <th>2</th>\n",
       "      <td>10180.0</td>\n",
       "      <td>ED</td>\n",
       "      <td>179308</td>\n",
       "      <td>0.009526</td>\n",
       "    </tr>\n",
       "    <tr>\n",
       "      <th>3</th>\n",
       "      <td>10220.0</td>\n",
       "      <td>ED</td>\n",
       "      <td>38141</td>\n",
       "      <td>-0.095589</td>\n",
       "    </tr>\n",
       "    <tr>\n",
       "      <th>4</th>\n",
       "      <td>10300.0</td>\n",
       "      <td>ED</td>\n",
       "      <td>98567</td>\n",
       "      <td>-0.071233</td>\n",
       "    </tr>\n",
       "    <tr>\n",
       "      <th>...</th>\n",
       "      <td>...</td>\n",
       "      <td>...</td>\n",
       "      <td>...</td>\n",
       "      <td>...</td>\n",
       "    </tr>\n",
       "    <tr>\n",
       "      <th>25997</th>\n",
       "      <td>49660.0</td>\n",
       "      <td>Park_Area_Acres</td>\n",
       "      <td>426279</td>\n",
       "      <td>-0.655686</td>\n",
       "    </tr>\n",
       "    <tr>\n",
       "      <th>25998</th>\n",
       "      <td>49700.0</td>\n",
       "      <td>Park_Area_Acres</td>\n",
       "      <td>182813</td>\n",
       "      <td>-2.663308</td>\n",
       "    </tr>\n",
       "    <tr>\n",
       "      <th>25999</th>\n",
       "      <td>49740.0</td>\n",
       "      <td>Park_Area_Acres</td>\n",
       "      <td>207842</td>\n",
       "      <td>-3.628451</td>\n",
       "    </tr>\n",
       "    <tr>\n",
       "      <th>26000</th>\n",
       "      <td>49780.0</td>\n",
       "      <td>Park_Area_Acres</td>\n",
       "      <td>86113</td>\n",
       "      <td>2.830239</td>\n",
       "    </tr>\n",
       "    <tr>\n",
       "      <th>26001</th>\n",
       "      <td>49820.0</td>\n",
       "      <td>Park_Area_Acres</td>\n",
       "      <td>13849</td>\n",
       "      <td>-0.224850</td>\n",
       "    </tr>\n",
       "  </tbody>\n",
       "</table>\n",
       "<p>26002 rows × 4 columns</p>\n",
       "</div>"
      ],
      "text/plain": [
       "       cbsacode           factor  TotalPopulation     FsAMI\n",
       "0       10100.0               ED            42037  0.023807\n",
       "1       10140.0               ED            77038  0.034397\n",
       "2       10180.0               ED           179308  0.009526\n",
       "3       10220.0               ED            38141 -0.095589\n",
       "4       10300.0               ED            98567 -0.071233\n",
       "...         ...              ...              ...       ...\n",
       "25997   49660.0  Park_Area_Acres           426279 -0.655686\n",
       "25998   49700.0  Park_Area_Acres           182813 -2.663308\n",
       "25999   49740.0  Park_Area_Acres           207842 -3.628451\n",
       "26000   49780.0  Park_Area_Acres            86113  2.830239\n",
       "26001   49820.0  Park_Area_Acres            13849 -0.224850\n",
       "\n",
       "[26002 rows x 4 columns]"
      ]
     },
     "execution_count": 6,
     "metadata": {},
     "output_type": "execute_result"
    }
   ],
   "source": [
    "data"
   ]
  }
 ],
 "metadata": {
  "kernelspec": {
   "display_name": "capstone_depression",
   "language": "python",
   "name": "python3"
  },
  "language_info": {
   "codemirror_mode": {
    "name": "ipython",
    "version": 3
   },
   "file_extension": ".py",
   "mimetype": "text/x-python",
   "name": "python",
   "nbconvert_exporter": "python",
   "pygments_lexer": "ipython3",
   "version": "3.9.20"
  },
  "orig_nbformat": 4
 },
 "nbformat": 4,
 "nbformat_minor": 2
}
