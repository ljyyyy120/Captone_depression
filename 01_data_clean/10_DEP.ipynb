{
 "cells": [
  {
   "cell_type": "code",
   "execution_count": 1,
   "id": "25029076",
   "metadata": {},
   "outputs": [],
   "source": [
    "import pandas as pd"
   ]
  },
  {
   "cell_type": "code",
   "execution_count": 2,
   "id": "e31243bb",
   "metadata": {},
   "outputs": [],
   "source": [
    "# https://chronicdata.cdc.gov/500-Cities-Places/PLACES-Local-Data-for-Better-Health-County-Data-20/swc5-untb/about_data\n",
    "# https://www.cdc.gov/places/measure-definitions/index.html\n",
    "df = pd.read_csv('../00_data/11_raw/PLACES__Local_Data_for_Better_Health,_County_Data_2024_release_20250828.csv',low_memory=False)"
   ]
  },
  {
   "cell_type": "code",
   "execution_count": 3,
   "id": "9b3cdfbc",
   "metadata": {},
   "outputs": [
    {
     "data": {
      "text/plain": [
       "array(['CASTHMA', 'ARTHRITIS', 'STROKE', 'OBESITY', 'DISABILITY', 'BINGE',\n",
       "       'BPHIGH', 'DIABETES', 'DEPRESSION', 'COGNITION', 'MHLTH',\n",
       "       'TEETHLOST', 'HEARING', 'COPD', 'VISION', 'MOBILITY', 'MAMMOUSE',\n",
       "       'SELFCARE', 'CHOLSCREEN', 'CHD', 'FOODINSECU', 'INDEPLIVE', 'LPA',\n",
       "       'SHUTUTILITY', 'HIGHCHOL', 'CSMOKING', 'SLEEP', 'ACCESS2', 'PHLTH',\n",
       "       'GHLTH', 'CHECKUP', 'COLON_SCREEN', 'DENTAL', 'ISOLATION',\n",
       "       'FOODSTAMP', 'BPMED', 'EMOTIONSPT', 'HOUSINSECU', 'CANCER',\n",
       "       'LACKTRPT'], dtype=object)"
      ]
     },
     "execution_count": 3,
     "metadata": {},
     "output_type": "execute_result"
    }
   ],
   "source": [
    "df['MeasureId'].unique()"
   ]
  },
  {
   "cell_type": "code",
   "execution_count": 4,
   "id": "1f832e46",
   "metadata": {},
   "outputs": [],
   "source": [
    "factor_list = [\n",
    "       'DEPRESSION', #\n",
    "       'DIABETES', #\n",
    "       'OBESITY', #\n",
    "       # 23% Missing 'ISOLATION', # adults who report always/usually/sometimes feeling socially isolated.\n",
    "       # 23% Missing 'EMOTIONSPT', # adults who report sometimes, rarely, or never getting the social and emotional support needed.\n",
    "       'BINGE', # adults who report having ≥5 drinks (men) or ≥4 drinks (women) on ≥1 occasion during the previous 30 days.\n",
    "       'CSMOKING', # adults who report having smoked ≥ 100 cigarettes in their lifetime and currently smoke every day or some days.\n",
    "       'LPA', # having no leisure-time physical activity \n",
    "]"
   ]
  },
  {
   "cell_type": "code",
   "execution_count": 5,
   "id": "d438fe4b",
   "metadata": {},
   "outputs": [],
   "source": [
    "df_select = df.loc[(df['MeasureId'].isin(factor_list)) & (df['DataValueTypeID'] == 'CrdPrv')].copy()\n",
    "df_select['TotalPopulation'] = df['TotalPopulation'].str.replace(',', '').astype('int')\n",
    "df_select['Value_N'] = df_select['TotalPopulation'] * df_select['Data_Value'] * 0.01"
   ]
  },
  {
   "cell_type": "code",
   "execution_count": 6,
   "id": "75aac449",
   "metadata": {},
   "outputs": [],
   "source": [
    "df_clean = df_select.pivot(index=['StateAbbr','LocationName','LocationID','TotalPopulation'],\n",
    "                columns='MeasureId',\n",
    "                values='Value_N').reset_index().dropna()"
   ]
  },
  {
   "cell_type": "code",
   "execution_count": 7,
   "id": "a1eb7edc",
   "metadata": {},
   "outputs": [],
   "source": [
    "df_clean.to_csv('../00_data/12_intermediate/place.csv',index=False)"
   ]
  }
 ],
 "metadata": {
  "kernelspec": {
   "display_name": "capstone_depression",
   "language": "python",
   "name": "python3"
  },
  "language_info": {
   "codemirror_mode": {
    "name": "ipython",
    "version": 3
   },
   "file_extension": ".py",
   "mimetype": "text/x-python",
   "name": "python",
   "nbconvert_exporter": "python",
   "pygments_lexer": "ipython3",
   "version": "3.9.20"
  }
 },
 "nbformat": 4,
 "nbformat_minor": 5
}
