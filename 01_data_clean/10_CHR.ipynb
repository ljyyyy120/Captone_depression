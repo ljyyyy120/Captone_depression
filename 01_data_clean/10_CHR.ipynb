{
 "cells": [
  {
   "cell_type": "code",
   "execution_count": 1,
   "metadata": {},
   "outputs": [],
   "source": [
    "import pandas as pd\n",
    "pd.set_option('display.max_columns', None)"
   ]
  },
  {
   "cell_type": "code",
   "execution_count": 2,
   "metadata": {},
   "outputs": [],
   "source": [
    "intermediate_dir = \"../00_data/02_intermediate/\""
   ]
  },
  {
   "cell_type": "code",
   "execution_count": 3,
   "metadata": {},
   "outputs": [],
   "source": [
    "chr = pd.read_csv(\"../00_data/02_intermediate/CHR.csv\")"
   ]
  },
  {
   "cell_type": "code",
   "execution_count": 4,
   "metadata": {},
   "outputs": [],
   "source": [
    "chr_county = chr.loc[chr['fipscode']>0].copy()"
   ]
  },
  {
   "cell_type": "code",
   "execution_count": 5,
   "metadata": {},
   "outputs": [],
   "source": [
    "chr_county['fipscode'] = chr_county['fipscode'].astype(int)\n",
    "\n",
    "rename_dict = {\n",
    "    'v009_rawvalue': 'adult_smoking',\n",
    "    'v011_rawvalue': 'adult_obesity',\n",
    "    'v045_rawvalue': 'sti',\n",
    "    'v049_rawvalue': 'excessive_drinking',\n",
    "    'v051_rawvalue': 'population',\n",
    "    'v052_rawvalue': 'under_18_pct',\n",
    "    'v060_rawvalue': 'diabetes_prevalence',\n",
    "    'v070_numerator': 'no_time_activity',\n",
    "    'v069_numerator': 'some_college',\n",
    "    'v023_numerator': 'unemployment',\n",
    "    'v082_numerator': 'children_single_parent',\n",
    "    'v062_numerator': 'mental_health_providers',\n",
    "    'v063_rawvalue': 'median_household_income',\n",
    "    'v067_numerator': 'driving_alone_to_work'\n",
    "}\n",
    "\n",
    "chr_rename = chr_county.rename(columns=rename_dict)\n"
   ]
  },
  {
   "cell_type": "code",
   "execution_count": 6,
   "metadata": {},
   "outputs": [],
   "source": [
    "chr_clean = chr_rename.drop(columns=['population', 'under_18_pct', 'statecode.1', 'countycode.1',\n",
    "       'fipscode.1', 'state.1', 'county.1', 'year.1'])"
   ]
  },
  {
   "cell_type": "code",
   "execution_count": 7,
   "metadata": {},
   "outputs": [],
   "source": [
    "chr_clean.to_csv('../00_data/12_intermediate/chr.csv',index=False)"
   ]
  }
 ],
 "metadata": {
  "kernelspec": {
   "display_name": "capstone_depression",
   "language": "python",
   "name": "python3"
  },
  "language_info": {
   "codemirror_mode": {
    "name": "ipython",
    "version": 3
   },
   "file_extension": ".py",
   "mimetype": "text/x-python",
   "name": "python",
   "nbconvert_exporter": "python",
   "pygments_lexer": "ipython3",
   "version": "3.9.20"
  }
 },
 "nbformat": 4,
 "nbformat_minor": 2
}
