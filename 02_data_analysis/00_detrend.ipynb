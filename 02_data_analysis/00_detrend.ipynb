{
 "cells": [
  {
   "cell_type": "code",
   "execution_count": 2,
   "id": "00a9a6cb-42a1-4db4-937d-ffc3967c06de",
   "metadata": {},
   "outputs": [],
   "source": [
    "import pandas as pd\n",
    "import numpy as np\n",
    "from collections import Counter\n",
    "import matplotlib.pyplot as plt\n",
    "import seaborn as sns\n",
    "\n",
    "import sys\n",
    "import os\n",
    "\n",
    "# Add the root project directory to sys.path\n",
    "sys.path.append(os.path.abspath(\"..\"))\n",
    "\n",
    "from function.detrend import stationarity_test, arima_detrend"
   ]
  },
  {
   "cell_type": "code",
   "execution_count": 3,
   "id": "b35dbb86-2689-4e60-a6df-a3db8e0e71f4",
   "metadata": {},
   "outputs": [
    {
     "ename": "FileNotFoundError",
     "evalue": "[Errno 2] No such file or directory: '../00_data/03_analysis_data/ssami_result.csv'",
     "output_type": "error",
     "traceback": [
      "\u001b[0;31m---------------------------------------------------------------------------\u001b[0m",
      "\u001b[0;31mFileNotFoundError\u001b[0m                         Traceback (most recent call last)",
      "Cell \u001b[0;32mIn[3], line 2\u001b[0m\n\u001b[1;32m      1\u001b[0m data_dir \u001b[38;5;241m=\u001b[39m \u001b[38;5;124m\"\u001b[39m\u001b[38;5;124m../00_data/03_analysis_data/\u001b[39m\u001b[38;5;124m\"\u001b[39m\n\u001b[0;32m----> 2\u001b[0m data \u001b[38;5;241m=\u001b[39m \u001b[43mpd\u001b[49m\u001b[38;5;241;43m.\u001b[39;49m\u001b[43mread_csv\u001b[49m\u001b[43m(\u001b[49m\u001b[38;5;124;43mf\u001b[39;49m\u001b[38;5;124;43m\"\u001b[39;49m\u001b[38;5;132;43;01m{\u001b[39;49;00m\u001b[43mdata_dir\u001b[49m\u001b[38;5;132;43;01m}\u001b[39;49;00m\u001b[38;5;124;43mssami_result.csv\u001b[39;49m\u001b[38;5;124;43m\"\u001b[39;49m\u001b[43m)\u001b[49m\n",
      "File \u001b[0;32m~/anaconda3/envs/capstone_depression/lib/python3.9/site-packages/pandas/io/parsers/readers.py:1026\u001b[0m, in \u001b[0;36mread_csv\u001b[0;34m(filepath_or_buffer, sep, delimiter, header, names, index_col, usecols, dtype, engine, converters, true_values, false_values, skipinitialspace, skiprows, skipfooter, nrows, na_values, keep_default_na, na_filter, verbose, skip_blank_lines, parse_dates, infer_datetime_format, keep_date_col, date_parser, date_format, dayfirst, cache_dates, iterator, chunksize, compression, thousands, decimal, lineterminator, quotechar, quoting, doublequote, escapechar, comment, encoding, encoding_errors, dialect, on_bad_lines, delim_whitespace, low_memory, memory_map, float_precision, storage_options, dtype_backend)\u001b[0m\n\u001b[1;32m   1013\u001b[0m kwds_defaults \u001b[38;5;241m=\u001b[39m _refine_defaults_read(\n\u001b[1;32m   1014\u001b[0m     dialect,\n\u001b[1;32m   1015\u001b[0m     delimiter,\n\u001b[0;32m   (...)\u001b[0m\n\u001b[1;32m   1022\u001b[0m     dtype_backend\u001b[38;5;241m=\u001b[39mdtype_backend,\n\u001b[1;32m   1023\u001b[0m )\n\u001b[1;32m   1024\u001b[0m kwds\u001b[38;5;241m.\u001b[39mupdate(kwds_defaults)\n\u001b[0;32m-> 1026\u001b[0m \u001b[38;5;28;01mreturn\u001b[39;00m \u001b[43m_read\u001b[49m\u001b[43m(\u001b[49m\u001b[43mfilepath_or_buffer\u001b[49m\u001b[43m,\u001b[49m\u001b[43m \u001b[49m\u001b[43mkwds\u001b[49m\u001b[43m)\u001b[49m\n",
      "File \u001b[0;32m~/anaconda3/envs/capstone_depression/lib/python3.9/site-packages/pandas/io/parsers/readers.py:620\u001b[0m, in \u001b[0;36m_read\u001b[0;34m(filepath_or_buffer, kwds)\u001b[0m\n\u001b[1;32m    617\u001b[0m _validate_names(kwds\u001b[38;5;241m.\u001b[39mget(\u001b[38;5;124m\"\u001b[39m\u001b[38;5;124mnames\u001b[39m\u001b[38;5;124m\"\u001b[39m, \u001b[38;5;28;01mNone\u001b[39;00m))\n\u001b[1;32m    619\u001b[0m \u001b[38;5;66;03m# Create the parser.\u001b[39;00m\n\u001b[0;32m--> 620\u001b[0m parser \u001b[38;5;241m=\u001b[39m \u001b[43mTextFileReader\u001b[49m\u001b[43m(\u001b[49m\u001b[43mfilepath_or_buffer\u001b[49m\u001b[43m,\u001b[49m\u001b[43m \u001b[49m\u001b[38;5;241;43m*\u001b[39;49m\u001b[38;5;241;43m*\u001b[39;49m\u001b[43mkwds\u001b[49m\u001b[43m)\u001b[49m\n\u001b[1;32m    622\u001b[0m \u001b[38;5;28;01mif\u001b[39;00m chunksize \u001b[38;5;129;01mor\u001b[39;00m iterator:\n\u001b[1;32m    623\u001b[0m     \u001b[38;5;28;01mreturn\u001b[39;00m parser\n",
      "File \u001b[0;32m~/anaconda3/envs/capstone_depression/lib/python3.9/site-packages/pandas/io/parsers/readers.py:1620\u001b[0m, in \u001b[0;36mTextFileReader.__init__\u001b[0;34m(self, f, engine, **kwds)\u001b[0m\n\u001b[1;32m   1617\u001b[0m     \u001b[38;5;28mself\u001b[39m\u001b[38;5;241m.\u001b[39moptions[\u001b[38;5;124m\"\u001b[39m\u001b[38;5;124mhas_index_names\u001b[39m\u001b[38;5;124m\"\u001b[39m] \u001b[38;5;241m=\u001b[39m kwds[\u001b[38;5;124m\"\u001b[39m\u001b[38;5;124mhas_index_names\u001b[39m\u001b[38;5;124m\"\u001b[39m]\n\u001b[1;32m   1619\u001b[0m \u001b[38;5;28mself\u001b[39m\u001b[38;5;241m.\u001b[39mhandles: IOHandles \u001b[38;5;241m|\u001b[39m \u001b[38;5;28;01mNone\u001b[39;00m \u001b[38;5;241m=\u001b[39m \u001b[38;5;28;01mNone\u001b[39;00m\n\u001b[0;32m-> 1620\u001b[0m \u001b[38;5;28mself\u001b[39m\u001b[38;5;241m.\u001b[39m_engine \u001b[38;5;241m=\u001b[39m \u001b[38;5;28;43mself\u001b[39;49m\u001b[38;5;241;43m.\u001b[39;49m\u001b[43m_make_engine\u001b[49m\u001b[43m(\u001b[49m\u001b[43mf\u001b[49m\u001b[43m,\u001b[49m\u001b[43m \u001b[49m\u001b[38;5;28;43mself\u001b[39;49m\u001b[38;5;241;43m.\u001b[39;49m\u001b[43mengine\u001b[49m\u001b[43m)\u001b[49m\n",
      "File \u001b[0;32m~/anaconda3/envs/capstone_depression/lib/python3.9/site-packages/pandas/io/parsers/readers.py:1880\u001b[0m, in \u001b[0;36mTextFileReader._make_engine\u001b[0;34m(self, f, engine)\u001b[0m\n\u001b[1;32m   1878\u001b[0m     \u001b[38;5;28;01mif\u001b[39;00m \u001b[38;5;124m\"\u001b[39m\u001b[38;5;124mb\u001b[39m\u001b[38;5;124m\"\u001b[39m \u001b[38;5;129;01mnot\u001b[39;00m \u001b[38;5;129;01min\u001b[39;00m mode:\n\u001b[1;32m   1879\u001b[0m         mode \u001b[38;5;241m+\u001b[39m\u001b[38;5;241m=\u001b[39m \u001b[38;5;124m\"\u001b[39m\u001b[38;5;124mb\u001b[39m\u001b[38;5;124m\"\u001b[39m\n\u001b[0;32m-> 1880\u001b[0m \u001b[38;5;28mself\u001b[39m\u001b[38;5;241m.\u001b[39mhandles \u001b[38;5;241m=\u001b[39m \u001b[43mget_handle\u001b[49m\u001b[43m(\u001b[49m\n\u001b[1;32m   1881\u001b[0m \u001b[43m    \u001b[49m\u001b[43mf\u001b[49m\u001b[43m,\u001b[49m\n\u001b[1;32m   1882\u001b[0m \u001b[43m    \u001b[49m\u001b[43mmode\u001b[49m\u001b[43m,\u001b[49m\n\u001b[1;32m   1883\u001b[0m \u001b[43m    \u001b[49m\u001b[43mencoding\u001b[49m\u001b[38;5;241;43m=\u001b[39;49m\u001b[38;5;28;43mself\u001b[39;49m\u001b[38;5;241;43m.\u001b[39;49m\u001b[43moptions\u001b[49m\u001b[38;5;241;43m.\u001b[39;49m\u001b[43mget\u001b[49m\u001b[43m(\u001b[49m\u001b[38;5;124;43m\"\u001b[39;49m\u001b[38;5;124;43mencoding\u001b[39;49m\u001b[38;5;124;43m\"\u001b[39;49m\u001b[43m,\u001b[49m\u001b[43m \u001b[49m\u001b[38;5;28;43;01mNone\u001b[39;49;00m\u001b[43m)\u001b[49m\u001b[43m,\u001b[49m\n\u001b[1;32m   1884\u001b[0m \u001b[43m    \u001b[49m\u001b[43mcompression\u001b[49m\u001b[38;5;241;43m=\u001b[39;49m\u001b[38;5;28;43mself\u001b[39;49m\u001b[38;5;241;43m.\u001b[39;49m\u001b[43moptions\u001b[49m\u001b[38;5;241;43m.\u001b[39;49m\u001b[43mget\u001b[49m\u001b[43m(\u001b[49m\u001b[38;5;124;43m\"\u001b[39;49m\u001b[38;5;124;43mcompression\u001b[39;49m\u001b[38;5;124;43m\"\u001b[39;49m\u001b[43m,\u001b[49m\u001b[43m \u001b[49m\u001b[38;5;28;43;01mNone\u001b[39;49;00m\u001b[43m)\u001b[49m\u001b[43m,\u001b[49m\n\u001b[1;32m   1885\u001b[0m \u001b[43m    \u001b[49m\u001b[43mmemory_map\u001b[49m\u001b[38;5;241;43m=\u001b[39;49m\u001b[38;5;28;43mself\u001b[39;49m\u001b[38;5;241;43m.\u001b[39;49m\u001b[43moptions\u001b[49m\u001b[38;5;241;43m.\u001b[39;49m\u001b[43mget\u001b[49m\u001b[43m(\u001b[49m\u001b[38;5;124;43m\"\u001b[39;49m\u001b[38;5;124;43mmemory_map\u001b[39;49m\u001b[38;5;124;43m\"\u001b[39;49m\u001b[43m,\u001b[49m\u001b[43m \u001b[49m\u001b[38;5;28;43;01mFalse\u001b[39;49;00m\u001b[43m)\u001b[49m\u001b[43m,\u001b[49m\n\u001b[1;32m   1886\u001b[0m \u001b[43m    \u001b[49m\u001b[43mis_text\u001b[49m\u001b[38;5;241;43m=\u001b[39;49m\u001b[43mis_text\u001b[49m\u001b[43m,\u001b[49m\n\u001b[1;32m   1887\u001b[0m \u001b[43m    \u001b[49m\u001b[43merrors\u001b[49m\u001b[38;5;241;43m=\u001b[39;49m\u001b[38;5;28;43mself\u001b[39;49m\u001b[38;5;241;43m.\u001b[39;49m\u001b[43moptions\u001b[49m\u001b[38;5;241;43m.\u001b[39;49m\u001b[43mget\u001b[49m\u001b[43m(\u001b[49m\u001b[38;5;124;43m\"\u001b[39;49m\u001b[38;5;124;43mencoding_errors\u001b[39;49m\u001b[38;5;124;43m\"\u001b[39;49m\u001b[43m,\u001b[49m\u001b[43m \u001b[49m\u001b[38;5;124;43m\"\u001b[39;49m\u001b[38;5;124;43mstrict\u001b[39;49m\u001b[38;5;124;43m\"\u001b[39;49m\u001b[43m)\u001b[49m\u001b[43m,\u001b[49m\n\u001b[1;32m   1888\u001b[0m \u001b[43m    \u001b[49m\u001b[43mstorage_options\u001b[49m\u001b[38;5;241;43m=\u001b[39;49m\u001b[38;5;28;43mself\u001b[39;49m\u001b[38;5;241;43m.\u001b[39;49m\u001b[43moptions\u001b[49m\u001b[38;5;241;43m.\u001b[39;49m\u001b[43mget\u001b[49m\u001b[43m(\u001b[49m\u001b[38;5;124;43m\"\u001b[39;49m\u001b[38;5;124;43mstorage_options\u001b[39;49m\u001b[38;5;124;43m\"\u001b[39;49m\u001b[43m,\u001b[49m\u001b[43m \u001b[49m\u001b[38;5;28;43;01mNone\u001b[39;49;00m\u001b[43m)\u001b[49m\u001b[43m,\u001b[49m\n\u001b[1;32m   1889\u001b[0m \u001b[43m\u001b[49m\u001b[43m)\u001b[49m\n\u001b[1;32m   1890\u001b[0m \u001b[38;5;28;01massert\u001b[39;00m \u001b[38;5;28mself\u001b[39m\u001b[38;5;241m.\u001b[39mhandles \u001b[38;5;129;01mis\u001b[39;00m \u001b[38;5;129;01mnot\u001b[39;00m \u001b[38;5;28;01mNone\u001b[39;00m\n\u001b[1;32m   1891\u001b[0m f \u001b[38;5;241m=\u001b[39m \u001b[38;5;28mself\u001b[39m\u001b[38;5;241m.\u001b[39mhandles\u001b[38;5;241m.\u001b[39mhandle\n",
      "File \u001b[0;32m~/anaconda3/envs/capstone_depression/lib/python3.9/site-packages/pandas/io/common.py:873\u001b[0m, in \u001b[0;36mget_handle\u001b[0;34m(path_or_buf, mode, encoding, compression, memory_map, is_text, errors, storage_options)\u001b[0m\n\u001b[1;32m    868\u001b[0m \u001b[38;5;28;01melif\u001b[39;00m \u001b[38;5;28misinstance\u001b[39m(handle, \u001b[38;5;28mstr\u001b[39m):\n\u001b[1;32m    869\u001b[0m     \u001b[38;5;66;03m# Check whether the filename is to be opened in binary mode.\u001b[39;00m\n\u001b[1;32m    870\u001b[0m     \u001b[38;5;66;03m# Binary mode does not support 'encoding' and 'newline'.\u001b[39;00m\n\u001b[1;32m    871\u001b[0m     \u001b[38;5;28;01mif\u001b[39;00m ioargs\u001b[38;5;241m.\u001b[39mencoding \u001b[38;5;129;01mand\u001b[39;00m \u001b[38;5;124m\"\u001b[39m\u001b[38;5;124mb\u001b[39m\u001b[38;5;124m\"\u001b[39m \u001b[38;5;129;01mnot\u001b[39;00m \u001b[38;5;129;01min\u001b[39;00m ioargs\u001b[38;5;241m.\u001b[39mmode:\n\u001b[1;32m    872\u001b[0m         \u001b[38;5;66;03m# Encoding\u001b[39;00m\n\u001b[0;32m--> 873\u001b[0m         handle \u001b[38;5;241m=\u001b[39m \u001b[38;5;28;43mopen\u001b[39;49m\u001b[43m(\u001b[49m\n\u001b[1;32m    874\u001b[0m \u001b[43m            \u001b[49m\u001b[43mhandle\u001b[49m\u001b[43m,\u001b[49m\n\u001b[1;32m    875\u001b[0m \u001b[43m            \u001b[49m\u001b[43mioargs\u001b[49m\u001b[38;5;241;43m.\u001b[39;49m\u001b[43mmode\u001b[49m\u001b[43m,\u001b[49m\n\u001b[1;32m    876\u001b[0m \u001b[43m            \u001b[49m\u001b[43mencoding\u001b[49m\u001b[38;5;241;43m=\u001b[39;49m\u001b[43mioargs\u001b[49m\u001b[38;5;241;43m.\u001b[39;49m\u001b[43mencoding\u001b[49m\u001b[43m,\u001b[49m\n\u001b[1;32m    877\u001b[0m \u001b[43m            \u001b[49m\u001b[43merrors\u001b[49m\u001b[38;5;241;43m=\u001b[39;49m\u001b[43merrors\u001b[49m\u001b[43m,\u001b[49m\n\u001b[1;32m    878\u001b[0m \u001b[43m            \u001b[49m\u001b[43mnewline\u001b[49m\u001b[38;5;241;43m=\u001b[39;49m\u001b[38;5;124;43m\"\u001b[39;49m\u001b[38;5;124;43m\"\u001b[39;49m\u001b[43m,\u001b[49m\n\u001b[1;32m    879\u001b[0m \u001b[43m        \u001b[49m\u001b[43m)\u001b[49m\n\u001b[1;32m    880\u001b[0m     \u001b[38;5;28;01melse\u001b[39;00m:\n\u001b[1;32m    881\u001b[0m         \u001b[38;5;66;03m# Binary mode\u001b[39;00m\n\u001b[1;32m    882\u001b[0m         handle \u001b[38;5;241m=\u001b[39m \u001b[38;5;28mopen\u001b[39m(handle, ioargs\u001b[38;5;241m.\u001b[39mmode)\n",
      "\u001b[0;31mFileNotFoundError\u001b[0m: [Errno 2] No such file or directory: '../00_data/03_analysis_data/ssami_result.csv'"
     ]
    }
   ],
   "source": [
    "data_dir = \"../00_data/03_analysis_data/\"\n",
    "data = pd.read_csv(f\"{data_dir}ssami_result.csv\")"
   ]
  },
  {
   "cell_type": "code",
   "execution_count": 4,
   "id": "19fb8d08-a5ed-4e86-ab44-35a5981fd320",
   "metadata": {},
   "outputs": [
    {
     "name": "stdout",
     "output_type": "stream",
     "text": [
      "original number of factors: 19\n",
      "filtered number of factors with full year coverage: 19\n"
     ]
    }
   ],
   "source": [
    "years = data['year'].unique()  # all year\n",
    "factor_year_coverage = data.groupby('factor')['year'].nunique()  # year covered for each factor\n",
    "\n",
    "threshold = 1 \n",
    "min_years_required = int(len(years) * threshold)\n",
    "complete_factors = factor_year_coverage[factor_year_coverage >= min_years_required].index\n",
    "filtered_data = data[data['factor'].isin(complete_factors)]\n",
    "\n",
    "print(f\"original number of factors: {data['factor'].nunique()}\")\n",
    "print(f\"filtered number of factors with full year coverage: {filtered_data['factor'].nunique()}\")"
   ]
  },
  {
   "cell_type": "code",
   "execution_count": 5,
   "id": "cd2c4852-d713-46b5-8124-9dfca49a2c68",
   "metadata": {},
   "outputs": [
    {
     "data": {
      "text/html": [
       "<div>\n",
       "<style scoped>\n",
       "    .dataframe tbody tr th:only-of-type {\n",
       "        vertical-align: middle;\n",
       "    }\n",
       "\n",
       "    .dataframe tbody tr th {\n",
       "        vertical-align: top;\n",
       "    }\n",
       "\n",
       "    .dataframe thead th {\n",
       "        text-align: right;\n",
       "    }\n",
       "</style>\n",
       "<table border=\"1\" class=\"dataframe\">\n",
       "  <thead>\n",
       "    <tr style=\"text-align: right;\">\n",
       "      <th></th>\n",
       "      <th>year</th>\n",
       "      <th>cbsacode</th>\n",
       "      <th>factor</th>\n",
       "      <th>ln_pop_beta</th>\n",
       "      <th>ln_pop_p</th>\n",
       "      <th>ln_pop_CI_lower</th>\n",
       "      <th>ln_pop_CI_upper</th>\n",
       "      <th>baseline_moran_value</th>\n",
       "      <th>baseline_moran_p</th>\n",
       "      <th>final_moran_value</th>\n",
       "      <th>final_moran_p</th>\n",
       "      <th>selected_k</th>\n",
       "      <th>SSAMI</th>\n",
       "    </tr>\n",
       "  </thead>\n",
       "  <tbody>\n",
       "    <tr>\n",
       "      <th>0</th>\n",
       "      <td>2011</td>\n",
       "      <td>10740</td>\n",
       "      <td>depressed</td>\n",
       "      <td>0.928707</td>\n",
       "      <td>1.060014e-61</td>\n",
       "      <td>0.898946</td>\n",
       "      <td>0.958468</td>\n",
       "      <td>0.172162</td>\n",
       "      <td>0.008</td>\n",
       "      <td>0.105120</td>\n",
       "      <td>0.069</td>\n",
       "      <td>2</td>\n",
       "      <td>0.132643</td>\n",
       "    </tr>\n",
       "    <tr>\n",
       "      <th>1</th>\n",
       "      <td>2011</td>\n",
       "      <td>11260</td>\n",
       "      <td>depressed</td>\n",
       "      <td>0.928707</td>\n",
       "      <td>1.060014e-61</td>\n",
       "      <td>0.898946</td>\n",
       "      <td>0.958468</td>\n",
       "      <td>0.172162</td>\n",
       "      <td>0.008</td>\n",
       "      <td>0.105120</td>\n",
       "      <td>0.069</td>\n",
       "      <td>2</td>\n",
       "      <td>-0.116964</td>\n",
       "    </tr>\n",
       "    <tr>\n",
       "      <th>2</th>\n",
       "      <td>2011</td>\n",
       "      <td>12060</td>\n",
       "      <td>depressed</td>\n",
       "      <td>0.928707</td>\n",
       "      <td>1.060014e-61</td>\n",
       "      <td>0.898946</td>\n",
       "      <td>0.958468</td>\n",
       "      <td>0.172162</td>\n",
       "      <td>0.008</td>\n",
       "      <td>0.105120</td>\n",
       "      <td>0.069</td>\n",
       "      <td>2</td>\n",
       "      <td>-0.118365</td>\n",
       "    </tr>\n",
       "    <tr>\n",
       "      <th>3</th>\n",
       "      <td>2011</td>\n",
       "      <td>12260</td>\n",
       "      <td>depressed</td>\n",
       "      <td>0.928707</td>\n",
       "      <td>1.060014e-61</td>\n",
       "      <td>0.898946</td>\n",
       "      <td>0.958468</td>\n",
       "      <td>0.172162</td>\n",
       "      <td>0.008</td>\n",
       "      <td>0.105120</td>\n",
       "      <td>0.069</td>\n",
       "      <td>2</td>\n",
       "      <td>-0.128926</td>\n",
       "    </tr>\n",
       "    <tr>\n",
       "      <th>4</th>\n",
       "      <td>2011</td>\n",
       "      <td>12420</td>\n",
       "      <td>depressed</td>\n",
       "      <td>0.928707</td>\n",
       "      <td>1.060014e-61</td>\n",
       "      <td>0.898946</td>\n",
       "      <td>0.958468</td>\n",
       "      <td>0.172162</td>\n",
       "      <td>0.008</td>\n",
       "      <td>0.105120</td>\n",
       "      <td>0.069</td>\n",
       "      <td>2</td>\n",
       "      <td>-0.123328</td>\n",
       "    </tr>\n",
       "    <tr>\n",
       "      <th>...</th>\n",
       "      <td>...</td>\n",
       "      <td>...</td>\n",
       "      <td>...</td>\n",
       "      <td>...</td>\n",
       "      <td>...</td>\n",
       "      <td>...</td>\n",
       "      <td>...</td>\n",
       "      <td>...</td>\n",
       "      <td>...</td>\n",
       "      <td>...</td>\n",
       "      <td>...</td>\n",
       "      <td>...</td>\n",
       "      <td>...</td>\n",
       "    </tr>\n",
       "    <tr>\n",
       "      <th>16411</th>\n",
       "      <td>2022</td>\n",
       "      <td>45820</td>\n",
       "      <td>gdp</td>\n",
       "      <td>1.094344</td>\n",
       "      <td>1.979239e-63</td>\n",
       "      <td>1.059750</td>\n",
       "      <td>1.128938</td>\n",
       "      <td>0.079856</td>\n",
       "      <td>0.108</td>\n",
       "      <td>0.079856</td>\n",
       "      <td>0.109</td>\n",
       "      <td>0</td>\n",
       "      <td>-0.066372</td>\n",
       "    </tr>\n",
       "    <tr>\n",
       "      <th>16412</th>\n",
       "      <td>2022</td>\n",
       "      <td>46140</td>\n",
       "      <td>gdp</td>\n",
       "      <td>1.094344</td>\n",
       "      <td>1.979239e-63</td>\n",
       "      <td>1.059750</td>\n",
       "      <td>1.128938</td>\n",
       "      <td>0.079856</td>\n",
       "      <td>0.108</td>\n",
       "      <td>0.079856</td>\n",
       "      <td>0.109</td>\n",
       "      <td>0</td>\n",
       "      <td>-0.190427</td>\n",
       "    </tr>\n",
       "    <tr>\n",
       "      <th>16413</th>\n",
       "      <td>2022</td>\n",
       "      <td>47260</td>\n",
       "      <td>gdp</td>\n",
       "      <td>1.094344</td>\n",
       "      <td>1.979239e-63</td>\n",
       "      <td>1.059750</td>\n",
       "      <td>1.128938</td>\n",
       "      <td>0.079856</td>\n",
       "      <td>0.108</td>\n",
       "      <td>0.079856</td>\n",
       "      <td>0.109</td>\n",
       "      <td>0</td>\n",
       "      <td>-0.252789</td>\n",
       "    </tr>\n",
       "    <tr>\n",
       "      <th>16414</th>\n",
       "      <td>2022</td>\n",
       "      <td>48620</td>\n",
       "      <td>gdp</td>\n",
       "      <td>1.094344</td>\n",
       "      <td>1.979239e-63</td>\n",
       "      <td>1.059750</td>\n",
       "      <td>1.128938</td>\n",
       "      <td>0.079856</td>\n",
       "      <td>0.108</td>\n",
       "      <td>0.079856</td>\n",
       "      <td>0.109</td>\n",
       "      <td>0</td>\n",
       "      <td>-0.058133</td>\n",
       "    </tr>\n",
       "    <tr>\n",
       "      <th>16415</th>\n",
       "      <td>2022</td>\n",
       "      <td>49340</td>\n",
       "      <td>gdp</td>\n",
       "      <td>1.094344</td>\n",
       "      <td>1.979239e-63</td>\n",
       "      <td>1.059750</td>\n",
       "      <td>1.128938</td>\n",
       "      <td>0.079856</td>\n",
       "      <td>0.108</td>\n",
       "      <td>0.079856</td>\n",
       "      <td>0.109</td>\n",
       "      <td>0</td>\n",
       "      <td>-0.100791</td>\n",
       "    </tr>\n",
       "  </tbody>\n",
       "</table>\n",
       "<p>16416 rows × 13 columns</p>\n",
       "</div>"
      ],
      "text/plain": [
       "       year  cbsacode     factor  ln_pop_beta      ln_pop_p  ln_pop_CI_lower  \\\n",
       "0      2011     10740  depressed     0.928707  1.060014e-61         0.898946   \n",
       "1      2011     11260  depressed     0.928707  1.060014e-61         0.898946   \n",
       "2      2011     12060  depressed     0.928707  1.060014e-61         0.898946   \n",
       "3      2011     12260  depressed     0.928707  1.060014e-61         0.898946   \n",
       "4      2011     12420  depressed     0.928707  1.060014e-61         0.898946   \n",
       "...     ...       ...        ...          ...           ...              ...   \n",
       "16411  2022     45820        gdp     1.094344  1.979239e-63         1.059750   \n",
       "16412  2022     46140        gdp     1.094344  1.979239e-63         1.059750   \n",
       "16413  2022     47260        gdp     1.094344  1.979239e-63         1.059750   \n",
       "16414  2022     48620        gdp     1.094344  1.979239e-63         1.059750   \n",
       "16415  2022     49340        gdp     1.094344  1.979239e-63         1.059750   \n",
       "\n",
       "       ln_pop_CI_upper  baseline_moran_value  baseline_moran_p  \\\n",
       "0             0.958468              0.172162             0.008   \n",
       "1             0.958468              0.172162             0.008   \n",
       "2             0.958468              0.172162             0.008   \n",
       "3             0.958468              0.172162             0.008   \n",
       "4             0.958468              0.172162             0.008   \n",
       "...                ...                   ...               ...   \n",
       "16411         1.128938              0.079856             0.108   \n",
       "16412         1.128938              0.079856             0.108   \n",
       "16413         1.128938              0.079856             0.108   \n",
       "16414         1.128938              0.079856             0.108   \n",
       "16415         1.128938              0.079856             0.108   \n",
       "\n",
       "       final_moran_value  final_moran_p  selected_k     SSAMI  \n",
       "0               0.105120          0.069           2  0.132643  \n",
       "1               0.105120          0.069           2 -0.116964  \n",
       "2               0.105120          0.069           2 -0.118365  \n",
       "3               0.105120          0.069           2 -0.128926  \n",
       "4               0.105120          0.069           2 -0.123328  \n",
       "...                  ...            ...         ...       ...  \n",
       "16411           0.079856          0.109           0 -0.066372  \n",
       "16412           0.079856          0.109           0 -0.190427  \n",
       "16413           0.079856          0.109           0 -0.252789  \n",
       "16414           0.079856          0.109           0 -0.058133  \n",
       "16415           0.079856          0.109           0 -0.100791  \n",
       "\n",
       "[16416 rows x 13 columns]"
      ]
     },
     "execution_count": 5,
     "metadata": {},
     "output_type": "execute_result"
    }
   ],
   "source": [
    "filtered_data"
   ]
  },
  {
   "cell_type": "code",
   "execution_count": 6,
   "id": "c1ddfb8f-127b-452a-a32c-cea6c1ceafc1",
   "metadata": {},
   "outputs": [
    {
     "name": "stdout",
     "output_type": "stream",
     "text": [
      "Processing factor: depressed\n",
      "Processing factor: poor_or_fair_health\n",
      "Processing factor: uninsured_adults\n",
      "Processing factor: primary_care_physicians\n",
      "Processing factor: adult_smoking\n",
      "Processing factor: adult_obesity\n",
      "Processing factor: unemployment\n",
      "Processing factor: low_birthweight\n",
      "Processing factor: sexually_transmitted_infections\n",
      "Processing factor: excessive_drinking\n",
      "Processing factor: rural\n",
      "Processing factor: not_proficient_in_english\n",
      "Processing factor: diabetes_prevalence\n",
      "Processing factor: mental_health_providers\n",
      "Processing factor: median_household_income\n",
      "Processing factor: driving_alone_to_work\n",
      "Processing factor: some_college\n",
      "Processing factor: children_in_single-parent_households\n",
      "Processing factor: gdp\n"
     ]
    }
   ],
   "source": [
    "stationarity_results = stationarity_test(\n",
    "    data= filtered_data,\n",
    "    factor_column='factor',\n",
    "    cbsa_column='cbsacode',\n",
    "    sami_column='SSAMI'\n",
    ")"
   ]
  },
  {
   "cell_type": "code",
   "execution_count": 7,
   "id": "384d462f-af19-4120-bb4e-ade8c92f2649",
   "metadata": {},
   "outputs": [
    {
     "data": {
      "text/plain": [
       "(950, 6)"
      ]
     },
     "execution_count": 7,
     "metadata": {},
     "output_type": "execute_result"
    }
   ],
   "source": [
    "nstationary = stationarity_results.loc[(stationarity_results['Stationary'] == False)].dropna()\n",
    "nstationary.shape"
   ]
  },
  {
   "cell_type": "code",
   "execution_count": 8,
   "id": "7d8761f7-bbeb-42a3-a941-6047e99d3023",
   "metadata": {},
   "outputs": [],
   "source": [
    "filtered_data1 = filtered_data.merge(nstationary, \n",
    "                           left_on=['cbsacode', 'factor'], \n",
    "                           right_on=['CBSA', 'Factor'],how='inner')"
   ]
  },
  {
   "cell_type": "code",
   "execution_count": 9,
   "id": "f1a65582-b099-4fa0-b085-c7d3c1eeaa87",
   "metadata": {},
   "outputs": [
    {
     "data": {
      "text/plain": [
       "(11400, 19)"
      ]
     },
     "execution_count": 9,
     "metadata": {},
     "output_type": "execute_result"
    }
   ],
   "source": [
    "filtered_data1.shape"
   ]
  },
  {
   "cell_type": "code",
   "execution_count": 10,
   "id": "6abf9df1-6705-4c5b-88aa-b8498b346c57",
   "metadata": {},
   "outputs": [
    {
     "name": "stdout",
     "output_type": "stream",
     "text": [
      "Detrending complete.\n"
     ]
    }
   ],
   "source": [
    "import pandas as pd\n",
    "from scipy.signal import detrend\n",
    "\n",
    "# Assuming `filtered_data` is your DataFrame\n",
    "# Ensure the data is sorted by 'cbsacode' and 'year'\n",
    "filtered_data1 = filtered_data1.sort_values(by=['cbsacode', 'year'])\n",
    "\n",
    "# Initialize a column for detrended SSAMI\n",
    "filtered_data1['SSAMI_detrended'] = None\n",
    "\n",
    "# Group by 'factor' and 'cbsacode'\n",
    "grouped = filtered_data1.groupby(['factor', 'cbsacode'])\n",
    "\n",
    "# Apply detrending to each group\n",
    "for (factor, cbsacode), group in grouped:\n",
    "    ssami_values = group['SSAMI'].values  # Get the SSAMI values for this group\n",
    "    detrended_values = detrend(ssami_values, type='linear')  # Remove the linear trend\n",
    "    filtered_data1.loc[group.index, 'SSAMI_detrended'] = detrended_values  # Assign detrended values\n",
    "\n",
    "# Save the detrended data to a new file\n",
    "#filtered_data.to_csv(f\"{output_dir}detrended_ssami.csv\", index=False)\n",
    "\n",
    "print(\"Detrending complete.\")"
   ]
  },
  {
   "cell_type": "code",
   "execution_count": 11,
   "id": "5498c3cb-ba0a-4ecc-886a-196ad6959b37",
   "metadata": {},
   "outputs": [
    {
     "name": "stdout",
     "output_type": "stream",
     "text": [
      "Processing factor: depressed\n",
      "Processing factor: poor_or_fair_health\n",
      "Processing factor: uninsured_adults\n",
      "Processing factor: adult_smoking\n",
      "Processing factor: adult_obesity\n",
      "Processing factor: low_birthweight\n",
      "Processing factor: not_proficient_in_english\n",
      "Processing factor: diabetes_prevalence\n",
      "Processing factor: mental_health_providers\n",
      "Processing factor: median_household_income\n",
      "Processing factor: some_college\n",
      "Processing factor: gdp\n",
      "Processing factor: primary_care_physicians\n",
      "Processing factor: unemployment\n",
      "Processing factor: sexually_transmitted_infections\n",
      "Processing factor: rural\n",
      "Processing factor: driving_alone_to_work\n",
      "Processing factor: children_in_single-parent_households\n",
      "Processing factor: excessive_drinking\n"
     ]
    }
   ],
   "source": [
    "stationarity_results2 = stationarity_test(\n",
    "    data= filtered_data1,\n",
    "    factor_column='factor',\n",
    "    cbsa_column='cbsacode',\n",
    "    sami_column='SSAMI_detrended'\n",
    ")"
   ]
  },
  {
   "cell_type": "code",
   "execution_count": 12,
   "id": "e367acad-416c-481e-88a6-cf9f32fead7f",
   "metadata": {},
   "outputs": [
    {
     "data": {
      "text/plain": [
       "(950, 6)"
      ]
     },
     "execution_count": 12,
     "metadata": {},
     "output_type": "execute_result"
    }
   ],
   "source": [
    "stationarity_results2.shape"
   ]
  },
  {
   "cell_type": "code",
   "execution_count": 13,
   "id": "5ccc6f36-c81f-4f66-b2d7-0f69286af18d",
   "metadata": {},
   "outputs": [
    {
     "data": {
      "text/plain": [
       "(658, 6)"
      ]
     },
     "execution_count": 13,
     "metadata": {},
     "output_type": "execute_result"
    }
   ],
   "source": [
    "nstationary2 = stationarity_results2.loc[(stationarity_results2['Stationary'] == False)].dropna()\n",
    "nstationary2.shape"
   ]
  },
  {
   "cell_type": "code",
   "execution_count": 14,
   "id": "daa3544d-4564-4b13-9f89-23edf43013b4",
   "metadata": {},
   "outputs": [],
   "source": [
    "filtered_data2 = filtered_data1.merge(nstationary2, \n",
    "                           left_on=['cbsacode', 'factor'], \n",
    "                           right_on=['CBSA', 'Factor'],how='inner')"
   ]
  },
  {
   "cell_type": "code",
   "execution_count": null,
   "id": "7010724c-3ded-4093-8ad0-5c2e93502dc3",
   "metadata": {},
   "outputs": [
    {
     "name": "stdout",
     "output_type": "stream",
     "text": [
      "ARIMA detrended finished.\n"
     ]
    }
   ],
   "source": [
    "\n",
    "\n",
    "# Example usage\n",
    "# Assuming `filtered_data` contains columns: 'year', 'cbsacode', 'SAMI'\n",
    "filtered_data2 = arima_detrend(filtered_data2, cbsa_column='cbsacode', sami_column='SSAMI', order=(1, 1, 0))\n",
    "\n",
    "# Save the detrended data\n",
    "#filtered_data.to_csv(f\"{output_dir}detrended_ssami_arima.csv\", index=False)\n",
    "print(\"ARIMA detrended finished.\")"
   ]
  },
  {
   "cell_type": "code",
   "execution_count": 16,
   "id": "a206955d-75fb-4ef1-892b-34c5154556c8",
   "metadata": {},
   "outputs": [
    {
     "name": "stdout",
     "output_type": "stream",
     "text": [
      "Processing factor: depressed\n",
      "Processing factor: uninsured_adults\n",
      "Processing factor: adult_smoking\n",
      "Processing factor: adult_obesity\n",
      "Processing factor: low_birthweight\n",
      "Processing factor: not_proficient_in_english\n",
      "Processing factor: mental_health_providers\n",
      "Processing factor: median_household_income\n",
      "Processing factor: some_college\n",
      "Processing factor: gdp\n",
      "Processing factor: primary_care_physicians\n",
      "Processing factor: unemployment\n",
      "Processing factor: rural\n",
      "Processing factor: diabetes_prevalence\n",
      "Processing factor: driving_alone_to_work\n",
      "Processing factor: children_in_single-parent_households\n",
      "Processing factor: poor_or_fair_health\n",
      "Processing factor: excessive_drinking\n",
      "Processing factor: sexually_transmitted_infections\n"
     ]
    }
   ],
   "source": [
    "stationarity_results3 = stationarity_test(\n",
    "    data= filtered_data2,\n",
    "    factor_column='factor',\n",
    "    cbsa_column='cbsacode',\n",
    "    sami_column='SAMI_detrended_arima'\n",
    ")"
   ]
  },
  {
   "cell_type": "code",
   "execution_count": 17,
   "id": "f7d7aad9-518f-462e-99ca-eee65d313506",
   "metadata": {},
   "outputs": [
    {
     "data": {
      "text/plain": [
       "(658, 6)"
      ]
     },
     "execution_count": 17,
     "metadata": {},
     "output_type": "execute_result"
    }
   ],
   "source": [
    "stationarity_results3.shape"
   ]
  },
  {
   "cell_type": "code",
   "execution_count": 18,
   "id": "658fbe16-bd59-4125-a8b4-a47c2eea7d08",
   "metadata": {},
   "outputs": [
    {
     "data": {
      "text/plain": [
       "(490, 6)"
      ]
     },
     "execution_count": 18,
     "metadata": {},
     "output_type": "execute_result"
    }
   ],
   "source": [
    "nstationary3 = stationarity_results3.loc[(stationarity_results3['Stationary'] == False)].dropna()\n",
    "nstationary3.shape"
   ]
  },
  {
   "cell_type": "code",
   "execution_count": 19,
   "id": "8411a220-0b8b-4201-8615-972e468d4780",
   "metadata": {},
   "outputs": [],
   "source": [
    "filtered_data['SSAMI_d'] = filtered_data['SSAMI']\n",
    "filtered_data['METHOD'] = 'original'\n",
    "\n",
    "filtered_data1['SSAMI_d'] = filtered_data1['SSAMI_detrended']\n",
    "filtered_data1['METHOD'] = 'linear'\n",
    "\n",
    "filtered_data2['SSAMI_d'] = filtered_data2['SAMI_detrended_arima']\n",
    "filtered_data2['METHOD'] = 'arima'"
   ]
  },
  {
   "cell_type": "code",
   "execution_count": 20,
   "id": "0d090bdf-fed3-4272-89bb-5649a58a39d5",
   "metadata": {},
   "outputs": [],
   "source": [
    "combined_data = pd.concat([filtered_data, \n",
    "                           filtered_data1, \n",
    "                           filtered_data2], ignore_index=True)[['cbsacode','year','factor','SSAMI_d','METHOD']]"
   ]
  },
  {
   "cell_type": "code",
   "execution_count": 21,
   "id": "89bbb857-e89a-4535-afe2-090116e3e780",
   "metadata": {},
   "outputs": [
    {
     "data": {
      "text/html": [
       "<div>\n",
       "<style scoped>\n",
       "    .dataframe tbody tr th:only-of-type {\n",
       "        vertical-align: middle;\n",
       "    }\n",
       "\n",
       "    .dataframe tbody tr th {\n",
       "        vertical-align: top;\n",
       "    }\n",
       "\n",
       "    .dataframe thead th {\n",
       "        text-align: right;\n",
       "    }\n",
       "</style>\n",
       "<table border=\"1\" class=\"dataframe\">\n",
       "  <thead>\n",
       "    <tr style=\"text-align: right;\">\n",
       "      <th></th>\n",
       "      <th>cbsacode</th>\n",
       "      <th>year</th>\n",
       "      <th>factor</th>\n",
       "      <th>SSAMI_d</th>\n",
       "      <th>METHOD</th>\n",
       "    </tr>\n",
       "  </thead>\n",
       "  <tbody>\n",
       "    <tr>\n",
       "      <th>0</th>\n",
       "      <td>10740</td>\n",
       "      <td>2011</td>\n",
       "      <td>depressed</td>\n",
       "      <td>0.132643</td>\n",
       "      <td>original</td>\n",
       "    </tr>\n",
       "    <tr>\n",
       "      <th>1</th>\n",
       "      <td>11260</td>\n",
       "      <td>2011</td>\n",
       "      <td>depressed</td>\n",
       "      <td>-0.116964</td>\n",
       "      <td>original</td>\n",
       "    </tr>\n",
       "    <tr>\n",
       "      <th>2</th>\n",
       "      <td>12060</td>\n",
       "      <td>2011</td>\n",
       "      <td>depressed</td>\n",
       "      <td>-0.118365</td>\n",
       "      <td>original</td>\n",
       "    </tr>\n",
       "    <tr>\n",
       "      <th>3</th>\n",
       "      <td>12260</td>\n",
       "      <td>2011</td>\n",
       "      <td>depressed</td>\n",
       "      <td>-0.128926</td>\n",
       "      <td>original</td>\n",
       "    </tr>\n",
       "    <tr>\n",
       "      <th>4</th>\n",
       "      <td>12420</td>\n",
       "      <td>2011</td>\n",
       "      <td>depressed</td>\n",
       "      <td>-0.123328</td>\n",
       "      <td>original</td>\n",
       "    </tr>\n",
       "    <tr>\n",
       "      <th>...</th>\n",
       "      <td>...</td>\n",
       "      <td>...</td>\n",
       "      <td>...</td>\n",
       "      <td>...</td>\n",
       "      <td>...</td>\n",
       "    </tr>\n",
       "    <tr>\n",
       "      <th>35707</th>\n",
       "      <td>49340</td>\n",
       "      <td>2022</td>\n",
       "      <td>rural</td>\n",
       "      <td>0.200309</td>\n",
       "      <td>arima</td>\n",
       "    </tr>\n",
       "    <tr>\n",
       "      <th>35708</th>\n",
       "      <td>49340</td>\n",
       "      <td>2022</td>\n",
       "      <td>not_proficient_in_english</td>\n",
       "      <td>0.362242</td>\n",
       "      <td>arima</td>\n",
       "    </tr>\n",
       "    <tr>\n",
       "      <th>35709</th>\n",
       "      <td>49340</td>\n",
       "      <td>2022</td>\n",
       "      <td>diabetes_prevalence</td>\n",
       "      <td>-0.467451</td>\n",
       "      <td>arima</td>\n",
       "    </tr>\n",
       "    <tr>\n",
       "      <th>35710</th>\n",
       "      <td>49340</td>\n",
       "      <td>2022</td>\n",
       "      <td>driving_alone_to_work</td>\n",
       "      <td>-0.12517</td>\n",
       "      <td>arima</td>\n",
       "    </tr>\n",
       "    <tr>\n",
       "      <th>35711</th>\n",
       "      <td>49340</td>\n",
       "      <td>2022</td>\n",
       "      <td>children_in_single-parent_households</td>\n",
       "      <td>-0.100302</td>\n",
       "      <td>arima</td>\n",
       "    </tr>\n",
       "  </tbody>\n",
       "</table>\n",
       "<p>35712 rows × 5 columns</p>\n",
       "</div>"
      ],
      "text/plain": [
       "       cbsacode  year                                factor   SSAMI_d  \\\n",
       "0         10740  2011                             depressed  0.132643   \n",
       "1         11260  2011                             depressed -0.116964   \n",
       "2         12060  2011                             depressed -0.118365   \n",
       "3         12260  2011                             depressed -0.128926   \n",
       "4         12420  2011                             depressed -0.123328   \n",
       "...         ...   ...                                   ...       ...   \n",
       "35707     49340  2022                                 rural  0.200309   \n",
       "35708     49340  2022             not_proficient_in_english  0.362242   \n",
       "35709     49340  2022                   diabetes_prevalence -0.467451   \n",
       "35710     49340  2022                 driving_alone_to_work  -0.12517   \n",
       "35711     49340  2022  children_in_single-parent_households -0.100302   \n",
       "\n",
       "         METHOD  \n",
       "0      original  \n",
       "1      original  \n",
       "2      original  \n",
       "3      original  \n",
       "4      original  \n",
       "...         ...  \n",
       "35707     arima  \n",
       "35708     arima  \n",
       "35709     arima  \n",
       "35710     arima  \n",
       "35711     arima  \n",
       "\n",
       "[35712 rows x 5 columns]"
      ]
     },
     "execution_count": 21,
     "metadata": {},
     "output_type": "execute_result"
    }
   ],
   "source": [
    "combined_data"
   ]
  },
  {
   "cell_type": "code",
   "execution_count": 22,
   "id": "1cd2e7c7-4cfc-42b6-bdc2-e963c6513abe",
   "metadata": {},
   "outputs": [
    {
     "name": "stdout",
     "output_type": "stream",
     "text": [
      "       cbsacode  year                                factor   SSAMI_d  \\\n",
      "27819     10740  2011                         adult_obesity -0.255189   \n",
      "27818     10740  2011                         adult_smoking -0.130169   \n",
      "1224      10740  2011  children_in_single-parent_households  0.266437   \n",
      "27816     10740  2011                             depressed  0.132643   \n",
      "16423     10740  2011                   diabetes_prevalence -0.006633   \n",
      "\n",
      "         METHOD  \n",
      "27819     arima  \n",
      "27818     arima  \n",
      "1224   original  \n",
      "27816     arima  \n",
      "16423    linear  \n"
     ]
    }
   ],
   "source": [
    "# Sort the data by METHOD preference (arima > linear > original)\n",
    "method_order = {'arima': 1, 'linear': 2, 'original': 3}\n",
    "combined_data['method_rank'] = combined_data['METHOD'].map(method_order)\n",
    "\n",
    "# Sort by year, CBSA, and method rank (ascending)\n",
    "combined_data = combined_data.sort_values(by=['year', 'cbsacode','factor', 'method_rank'])\n",
    "\n",
    "# Keep the first (highest-priority) method for each year-CBSA pair\n",
    "deduplicated_data = combined_data.drop_duplicates(subset=['year', 'cbsacode','factor'], keep='first')\n",
    "\n",
    "# Drop the helper column 'method_rank'\n",
    "deduplicated_data = deduplicated_data.drop(columns=['method_rank'])\n",
    "\n",
    "# Save the final dataset (optional)\n",
    "#deduplicated_data.to_csv(f\"{output_dir}detrend_ssami_data.csv\", index=False)\n",
    "\n",
    "# Display results\n",
    "#print(\"Deduplicated data shape:\", deduplicated_data.shape)\n",
    "print(deduplicated_data.head())"
   ]
  },
  {
   "cell_type": "code",
   "execution_count": 23,
   "id": "bca86afc-bf99-4d64-ab6a-748d5923077f",
   "metadata": {},
   "outputs": [
    {
     "data": {
      "text/html": [
       "<div>\n",
       "<style scoped>\n",
       "    .dataframe tbody tr th:only-of-type {\n",
       "        vertical-align: middle;\n",
       "    }\n",
       "\n",
       "    .dataframe tbody tr th {\n",
       "        vertical-align: top;\n",
       "    }\n",
       "\n",
       "    .dataframe thead th {\n",
       "        text-align: right;\n",
       "    }\n",
       "</style>\n",
       "<table border=\"1\" class=\"dataframe\">\n",
       "  <thead>\n",
       "    <tr style=\"text-align: right;\">\n",
       "      <th></th>\n",
       "      <th>cbsacode</th>\n",
       "      <th>year</th>\n",
       "      <th>factor</th>\n",
       "      <th>SSAMI_d</th>\n",
       "      <th>METHOD</th>\n",
       "    </tr>\n",
       "  </thead>\n",
       "  <tbody>\n",
       "    <tr>\n",
       "      <th>27819</th>\n",
       "      <td>10740</td>\n",
       "      <td>2011</td>\n",
       "      <td>adult_obesity</td>\n",
       "      <td>-0.255189</td>\n",
       "      <td>arima</td>\n",
       "    </tr>\n",
       "    <tr>\n",
       "      <th>27818</th>\n",
       "      <td>10740</td>\n",
       "      <td>2011</td>\n",
       "      <td>adult_smoking</td>\n",
       "      <td>-0.130169</td>\n",
       "      <td>arima</td>\n",
       "    </tr>\n",
       "    <tr>\n",
       "      <th>1224</th>\n",
       "      <td>10740</td>\n",
       "      <td>2011</td>\n",
       "      <td>children_in_single-parent_households</td>\n",
       "      <td>0.266437</td>\n",
       "      <td>original</td>\n",
       "    </tr>\n",
       "    <tr>\n",
       "      <th>27816</th>\n",
       "      <td>10740</td>\n",
       "      <td>2011</td>\n",
       "      <td>depressed</td>\n",
       "      <td>0.132643</td>\n",
       "      <td>arima</td>\n",
       "    </tr>\n",
       "    <tr>\n",
       "      <th>16423</th>\n",
       "      <td>10740</td>\n",
       "      <td>2011</td>\n",
       "      <td>diabetes_prevalence</td>\n",
       "      <td>-0.006633</td>\n",
       "      <td>linear</td>\n",
       "    </tr>\n",
       "    <tr>\n",
       "      <th>...</th>\n",
       "      <td>...</td>\n",
       "      <td>...</td>\n",
       "      <td>...</td>\n",
       "      <td>...</td>\n",
       "      <td>...</td>\n",
       "    </tr>\n",
       "    <tr>\n",
       "      <th>35707</th>\n",
       "      <td>49340</td>\n",
       "      <td>2022</td>\n",
       "      <td>rural</td>\n",
       "      <td>0.200309</td>\n",
       "      <td>arima</td>\n",
       "    </tr>\n",
       "    <tr>\n",
       "      <th>15695</th>\n",
       "      <td>49340</td>\n",
       "      <td>2022</td>\n",
       "      <td>sexually_transmitted_infections</td>\n",
       "      <td>-0.147637</td>\n",
       "      <td>original</td>\n",
       "    </tr>\n",
       "    <tr>\n",
       "      <th>27814</th>\n",
       "      <td>49340</td>\n",
       "      <td>2022</td>\n",
       "      <td>some_college</td>\n",
       "      <td>-0.001853</td>\n",
       "      <td>linear</td>\n",
       "    </tr>\n",
       "    <tr>\n",
       "      <th>35705</th>\n",
       "      <td>49340</td>\n",
       "      <td>2022</td>\n",
       "      <td>unemployment</td>\n",
       "      <td>0.138385</td>\n",
       "      <td>arima</td>\n",
       "    </tr>\n",
       "    <tr>\n",
       "      <th>35703</th>\n",
       "      <td>49340</td>\n",
       "      <td>2022</td>\n",
       "      <td>uninsured_adults</td>\n",
       "      <td>-0.222808</td>\n",
       "      <td>arima</td>\n",
       "    </tr>\n",
       "  </tbody>\n",
       "</table>\n",
       "<p>16416 rows × 5 columns</p>\n",
       "</div>"
      ],
      "text/plain": [
       "       cbsacode  year                                factor   SSAMI_d  \\\n",
       "27819     10740  2011                         adult_obesity -0.255189   \n",
       "27818     10740  2011                         adult_smoking -0.130169   \n",
       "1224      10740  2011  children_in_single-parent_households  0.266437   \n",
       "27816     10740  2011                             depressed  0.132643   \n",
       "16423     10740  2011                   diabetes_prevalence -0.006633   \n",
       "...         ...   ...                                   ...       ...   \n",
       "35707     49340  2022                                 rural  0.200309   \n",
       "15695     49340  2022       sexually_transmitted_infections -0.147637   \n",
       "27814     49340  2022                          some_college -0.001853   \n",
       "35705     49340  2022                          unemployment  0.138385   \n",
       "35703     49340  2022                      uninsured_adults -0.222808   \n",
       "\n",
       "         METHOD  \n",
       "27819     arima  \n",
       "27818     arima  \n",
       "1224   original  \n",
       "27816     arima  \n",
       "16423    linear  \n",
       "...         ...  \n",
       "35707     arima  \n",
       "15695  original  \n",
       "27814    linear  \n",
       "35705     arima  \n",
       "35703     arima  \n",
       "\n",
       "[16416 rows x 5 columns]"
      ]
     },
     "execution_count": 23,
     "metadata": {},
     "output_type": "execute_result"
    }
   ],
   "source": [
    "deduplicated_data"
   ]
  },
  {
   "cell_type": "code",
   "execution_count": 24,
   "id": "42141a9b-330d-4239-88de-bbf21a0e927a",
   "metadata": {},
   "outputs": [],
   "source": [
    "deduplicated_data.to_csv(f'../output/detrend_result.csv',index=False)"
   ]
  },
  {
   "cell_type": "markdown",
   "id": "4532a42c-40e1-4d26-8023-a4849807a786",
   "metadata": {},
   "source": [
    "---"
   ]
  },
  {
   "cell_type": "code",
   "execution_count": 25,
   "id": "76e56a31-8909-4ef2-854b-e21e42c65ecb",
   "metadata": {},
   "outputs": [
    {
     "name": "stdout",
     "output_type": "stream",
     "text": [
      "Processing factor: adult_obesity\n",
      "Processing factor: adult_smoking\n",
      "Processing factor: children_in_single-parent_households\n",
      "Processing factor: depressed\n",
      "Processing factor: diabetes_prevalence\n",
      "Processing factor: driving_alone_to_work\n",
      "Processing factor: excessive_drinking\n",
      "Processing factor: gdp\n",
      "Processing factor: low_birthweight\n",
      "Processing factor: median_household_income\n",
      "Processing factor: mental_health_providers\n",
      "Processing factor: not_proficient_in_english\n",
      "Processing factor: poor_or_fair_health\n",
      "Processing factor: primary_care_physicians\n",
      "Processing factor: rural\n",
      "Processing factor: sexually_transmitted_infections\n",
      "Processing factor: some_college\n",
      "Processing factor: unemployment\n",
      "Processing factor: uninsured_adults\n"
     ]
    }
   ],
   "source": [
    "stationarity_results_f = stationarity_test(\n",
    "    data= deduplicated_data,\n",
    "    factor_column='factor',\n",
    "    cbsa_column='cbsacode',\n",
    "    sami_column='SSAMI_d'\n",
    ")"
   ]
  },
  {
   "cell_type": "markdown",
   "id": "5b0d5481-6889-44f8-b515-3bd9be04dc23",
   "metadata": {},
   "source": [
    "---\n",
    "# Visulization"
   ]
  },
  {
   "cell_type": "code",
   "execution_count": 27,
   "id": "aabbe452-f83a-4d5b-b6d7-d1bcbcff9343",
   "metadata": {},
   "outputs": [
    {
     "name": "stderr",
     "output_type": "stream",
     "text": [
      "/tmp/ipykernel_1422477/1293282077.py:16: FutureWarning: Downcasting behavior in `replace` is deprecated and will be removed in a future version. To retain the old behavior, explicitly call `result.infer_objects(copy=False)`. To opt-in to the future behavior, set `pd.set_option('future.no_silent_downcasting', True)`\n",
      "  binary_heatmap_data = heatmap_data.replace({True: 1, False: 0})\n"
     ]
    },
    {
     "data": {
      "image/png": "[encoded data removed]",
      "text/plain": [
       "<Figure size 1000x500 with 2 Axes>"
      ]
     },
     "metadata": {},
     "output_type": "display_data"
    }
   ],
   "source": [
    "import seaborn as sns\n",
    "import matplotlib.pyplot as plt\n",
    "\n",
    "# Define a custom color palette using similar colors from the provided palette\n",
    "custom_colors = ['#FAECB6', '#F4B847']  # non-stationary, yellow for stationary\n",
    "\n",
    "bar = stationarity_results_f.dropna()\n",
    "# Assuming 'CBSA' and 'Factor' are columns in results_df\n",
    "\n",
    "# Prepare data for heatmap by pivoting the DataFrame\n",
    "heatmap_data = bar.pivot(index='Factor',  # Features as rows\n",
    "                         columns='CBSA',  # CBSA codes as columns\n",
    "                         values='Stationary').fillna(False)\n",
    "\n",
    "# Convert boolean True/False to binary labels 1 (Stationary) and 0 (Non-Stationary)\n",
    "binary_heatmap_data = heatmap_data.replace({True: 1, False: 0})\n",
    "\n",
    "# Plot heatmap with discrete color levels (0 and 1 only)\n",
    "plt.figure(figsize=(10, 5))\n",
    "sns.heatmap(binary_heatmap_data,\n",
    "            cmap=sns.color_palette(custom_colors),\n",
    "            cbar_kws={'ticks': [0, 1], 'label': 'Stationary (1) vs Non-Stationary (0)'},\n",
    "            linewidths=0.5, linecolor='white')  # Add grid lines for better separation\n",
    "plt.xlabel(\"CBSA Code\")\n",
    "plt.ylabel(\"Feature\")\n",
    "plt.title(\"Stationarity of Features by CBSA\")\n",
    "plt.show()"
   ]
  }
 ],
 "metadata": {
  "kernelspec": {
   "display_name": "capstone_depression",
   "language": "python",
   "name": "python3"
  },
  "language_info": {
   "codemirror_mode": {
    "name": "ipython",
    "version": 3
   },
   "file_extension": ".py",
   "mimetype": "text/x-python",
   "name": "python",
   "nbconvert_exporter": "python",
   "pygments_lexer": "ipython3",
   "version": "3.9.20"
  }
 },
 "nbformat": 4,
 "nbformat_minor": 5
}
