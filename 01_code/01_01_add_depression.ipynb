{
 "cells": [
  {
   "cell_type": "code",
   "execution_count": 1,
   "metadata": {},
   "outputs": [],
   "source": [
    "import pandas as pd"
   ]
  },
  {
   "cell_type": "code",
   "execution_count": 6,
   "metadata": {},
   "outputs": [],
   "source": [
    "df_t2010 = pd.read_csv(\"/Users/lidouhao/Documents/GitHub/Captone_depression/00_data/02_intermediate/tweet2010_analysis.csv\")\n",
    "df_t2019 = pd.read_csv(\"/Users/lidouhao/Documents/GitHub/Captone_depression/00_data/01_raw/twitter19_cbsa_depression_rates.csv\")\n",
    "df_smart = pd.read_csv(\"/Users/lidouhao/Documents/GitHub/Captone_depression/00_data/02_intermediate/20241025smart_with_cbsa.csv\")"
   ]
  },
  {
   "cell_type": "code",
   "execution_count": 33,
   "metadata": {},
   "outputs": [],
   "source": [
    "df_t2019['Year'] = 2019\n",
    "df_t2019['cbsacode'] = df_t2019['cbsa'].astype(str).str[:5]\n",
    "df_t2010['Year'] = 2011\n",
    "df_t2010['cbsacode'] = df_t2019['cbsa'].astype(str).str[:5]\n",
    "df_smart['cbsacode'] = df_t2019['cbsacode'].astype(str).str[:5]"
   ]
  },
  {
   "cell_type": "code",
   "execution_count": 34,
   "metadata": {},
   "outputs": [],
   "source": [
    "df_t2019_re = df_t2019.rename(columns={\"depression rate\": \"depression_twitter19\"})[['cbsacode','depression_twitter19','Year']]\n",
    "df_t2010_re = df_t2010.rename(columns={\"depression_rate\": \"depression_twitter10\",\n",
    "\"user_id\":\"sample_size_twitter10\"})[['cbsacode','depression_twitter10','sample_size_twitter10','Year']]"
   ]
  },
  {
   "cell_type": "code",
   "execution_count": 35,
   "metadata": {},
   "outputs": [],
   "source": [
    "merge_df = df_smart.merge(df_t2019_re,how=\"outer\").merge(df_t2010_re,how=\"outer\")"
   ]
  },
  {
   "cell_type": "code",
   "execution_count": 37,
   "metadata": {},
   "outputs": [],
   "source": [
    "merge_df.to_csv('/Users/lidouhao/Documents/GitHub/Captone_depression/00_data/02_intermediate/20241030depression.csv')"
   ]
  }
 ],
 "metadata": {
  "kernelspec": {
   "display_name": "capstone_depression",
   "language": "python",
   "name": "python3"
  },
  "language_info": {
   "codemirror_mode": {
    "name": "ipython",
    "version": 3
   },
   "file_extension": ".py",
   "mimetype": "text/x-python",
   "name": "python",
   "nbconvert_exporter": "python",
   "pygments_lexer": "ipython3",
   "version": "3.9.20"
  }
 },
 "nbformat": 4,
 "nbformat_minor": 2
}
