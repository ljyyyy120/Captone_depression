{
 "cells": [
  {
   "cell_type": "code",
<<<<<<< Updated upstream:01_code/01_getting_geoid_cleaned.ipynb
   "execution_count": 2,
=======
   "execution_count": null,
>>>>>>> Stashed changes:01_code/depression_scaling-master/01_getting_geoid_cleaned.ipynb
   "metadata": {},
   "outputs": [],
   "source": [
    "# python3.7\n",
    "\n",
    "import numpy as np # http://www.numpy.org/; version 1.18.1\n",
    "import pandas as pd #http://pandas.pydata.org/; version 1.0.1\n",
    "import censusgeocode as cg #https://github.com/fitnr/censusgeocode; version 0.4.4\n",
    "#requests==2.27.0\n",
    "import time"
   ]
  },
  {
   "cell_type": "code",
<<<<<<< Updated upstream:01_code/01_getting_geoid_cleaned.ipynb
   "execution_count": 6,
=======
   "execution_count": 5,
>>>>>>> Stashed changes:01_code/depression_scaling-master/01_getting_geoid_cleaned.ipynb
   "metadata": {},
   "outputs": [
    {
     "data": {
      "text/html": [
       "<div>\n",
       "<style scoped>\n",
       "    .dataframe tbody tr th:only-of-type {\n",
       "        vertical-align: middle;\n",
       "    }\n",
       "\n",
       "    .dataframe tbody tr th {\n",
       "        vertical-align: top;\n",
       "    }\n",
       "\n",
       "    .dataframe thead th {\n",
       "        text-align: right;\n",
       "    }\n",
       "</style>\n",
       "<table border=\"1\" class=\"dataframe\">\n",
       "  <thead>\n",
       "    <tr style=\"text-align: right;\">\n",
       "      <th></th>\n",
       "      <th>latlong</th>\n",
       "      <th>lat</th>\n",
       "      <th>long</th>\n",
       "      <th>geoid</th>\n",
       "    </tr>\n",
       "  </thead>\n",
       "  <tbody>\n",
       "    <tr>\n",
       "      <th>0</th>\n",
       "      <td>47.528139,-122.197916</td>\n",
       "      <td>47.528139</td>\n",
       "      <td>-122.197916</td>\n",
       "      <td>-1</td>\n",
       "    </tr>\n",
       "    <tr>\n",
       "      <th>1</th>\n",
       "      <td>40.2015,-74.806535</td>\n",
       "      <td>40.201500</td>\n",
       "      <td>-74.806535</td>\n",
       "      <td>-1</td>\n",
       "    </tr>\n",
       "    <tr>\n",
       "      <th>2</th>\n",
       "      <td>40.221968,-74.734795</td>\n",
       "      <td>40.221968</td>\n",
       "      <td>-74.734795</td>\n",
       "      <td>-1</td>\n",
       "    </tr>\n",
       "    <tr>\n",
       "      <th>3</th>\n",
       "      <td>40.221333,-74.732688</td>\n",
       "      <td>40.221333</td>\n",
       "      <td>-74.732688</td>\n",
       "      <td>-1</td>\n",
       "    </tr>\n",
       "    <tr>\n",
       "      <th>4</th>\n",
       "      <td>40.220681,-74.758761</td>\n",
       "      <td>40.220681</td>\n",
       "      <td>-74.758761</td>\n",
       "      <td>-1</td>\n",
       "    </tr>\n",
       "  </tbody>\n",
       "</table>\n",
       "</div>"
      ],
      "text/plain": [
       "                 latlong        lat        long  geoid\n",
       "0  47.528139,-122.197916  47.528139 -122.197916     -1\n",
       "1     40.2015,-74.806535  40.201500  -74.806535     -1\n",
       "2   40.221968,-74.734795  40.221968  -74.734795     -1\n",
       "3   40.221333,-74.732688  40.221333  -74.732688     -1\n",
       "4   40.220681,-74.758761  40.220681  -74.758761     -1"
      ]
     },
<<<<<<< Updated upstream:01_code/01_getting_geoid_cleaned.ipynb
     "execution_count": 6,
=======
     "execution_count": 5,
>>>>>>> Stashed changes:01_code/depression_scaling-master/01_getting_geoid_cleaned.ipynb
     "metadata": {},
     "output_type": "execute_result"
    }
   ],
   "source": [
    "# read in the geotext data\n",
    "twt_df = pd.read_csv('full_text.txt', sep='\\t', header=None, encoding=\"cp437\")\n",
    "# name the columns\n",
    "twt_df.columns = ['user_id', 'created_at', 'latlong', 'lat', 'long', 'text']\n",
    "# clean the latlong column\n",
    "twt_df['latlong'] = twt_df['latlong'].apply(lambda x: x[5:])\n",
    "# get the unique coordinates\n",
    "latlongs = twt_df[['latlong','lat', 'long']].drop_duplicates().reset_index(drop=True).copy()\n",
    "# initialize geoid column so that if unmodified, it will be -1\n",
    "latlongs['geoid'] = -1\n",
    "latlongs.head()"
   ]
  },
  {
   "cell_type": "code",
<<<<<<< Updated upstream:01_code/01_getting_geoid_cleaned.ipynb
   "execution_count": 17,
   "metadata": {},
   "outputs": [
    {
     "name": "stdout",
     "output_type": "stream",
     "text": [
      "the execution took 23255.031200885773 seconds\n"
     ]
    }
   ],
=======
   "execution_count": null,
   "metadata": {},
   "outputs": [],
>>>>>>> Stashed changes:01_code/depression_scaling-master/01_getting_geoid_cleaned.ipynb
   "source": [
    "# since the API is a bit unstable, we ran this cell 4 times\n",
    "t0 = time.time()\n",
    "geoid_array = []\n",
    "for idx in latlongs[latlongs['geoid'] == -1].index:\n",
    "    for j in range(3):\n",
    "        try:\n",
    "            # Call the API function to get the geocodes for the lat long\n",
    "            address = cg.coordinates(latlongs.loc[idx, 'long'], latlongs.loc[idx, 'lat'])\n",
    "            if len(address[u'Counties']) > 0:\n",
    "                fips = address[u'Counties'][0][u'GEOID']\n",
    "                success = True\n",
    "                latlongs.loc[idx, 'geoid'] = fips\n",
    "                break\n",
    "        except:\n",
    "            pass\n",
    "t1 = time.time()\n",
    "print(f\"the execution took {t1 - t0} seconds\")"
   ]
  },
  {
   "cell_type": "code",
<<<<<<< Updated upstream:01_code/01_getting_geoid_cleaned.ipynb
   "execution_count": 18,
=======
   "execution_count": null,
>>>>>>> Stashed changes:01_code/depression_scaling-master/01_getting_geoid_cleaned.ipynb
   "metadata": {},
   "outputs": [],
   "source": [
    "print(f'there were no geoid for {latlongs[latlongs[\"geoid\"] == -1].shape[0]} coordinates out of {latlongs.shape[0]} unique coordinates')"
   ]
  },
  {
   "cell_type": "code",
   "execution_count": 19,
   "metadata": {},
   "outputs": [],
   "source": [
    "# save the latlong data\n",
    "latlongs.to_csv('latlongs.csv', index=False)\n",
    "# merge the latlongs and save it\n",
    "# merge only using 'latlong' column due to floating point error\n",
    "twt_df.merge(latlongs.drop(columns=['lat', 'long'])).to_csv('twt_with_geoid.csv', index=False)"
   ]
  },
  {
   "cell_type": "code",
   "execution_count": null,
   "metadata": {},
   "outputs": [],
   "source": []
  }
 ],
 "metadata": {
  "kernelspec": {
<<<<<<< Updated upstream:01_code/01_getting_geoid_cleaned.ipynb
   "display_name": "Python 3.7 (myenv)",
=======
   "display_name": "capstone_depression",
>>>>>>> Stashed changes:01_code/depression_scaling-master/01_getting_geoid_cleaned.ipynb
   "language": "python",
   "name": "myenv"
  },
  "language_info": {
   "codemirror_mode": {
    "name": "ipython",
    "version": 3
   },
   "file_extension": ".py",
   "mimetype": "text/x-python",
   "name": "python",
   "nbconvert_exporter": "python",
   "pygments_lexer": "ipython3",
   "version": "3.7.16"
  }
 },
 "nbformat": 4,
 "nbformat_minor": 4
}
